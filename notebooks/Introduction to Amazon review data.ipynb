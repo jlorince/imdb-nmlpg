{
 "cells": [
  {
   "cell_type": "markdown",
   "metadata": {},
   "source": [
    "Our S3 bucket has the original k-core review data (from http://jmcauley.ucsd.edu/data/amazon/) for each of 24 product categories on Amazon, in the format `reviews_CATEGORY_5.json.gz`. The categories are: Amazon_Instant_Video, Apps_for_Android, Automotive, Baby, Beauty, Books, CDs_and_Vinyl, Cell_Phones_and_Accessories, Clothing_Shoes_and_Jewelry, Digital_Music, Electronics, Grocery_and_Gourmet_Food, Health_and_Personal_Care, Home_and_Kitchen, Kindle_Store, Movies_and_TV, Musical_Instruments, Office_Products, Patio_Lawn_and_Garden, Pet_Supplies, Sports_and_Outdoors, Tools_and_Home_Improvement, Toys_and_Games, and Video_Games.\n",
    "\n",
    "Thest are 5-core reduced datasets, meaning they only include reviews for products with at least five reviews each from users who themselves have written at least 5 reviews.\n",
    "\n",
    "Along with the raw JSON files, you will find three additional files for each product category that we generated:"
   ]
  },
  {
   "cell_type": "markdown",
   "metadata": {},
   "source": [
    "### `CATEGORY.pkl`\n",
    "This is a pickled dataframe derived from the raw JSON file. The data is the same as in the raw JSON, except that the review helpfulness ratings have been unpacked into two separate columns."
   ]
  },
  {
   "cell_type": "code",
   "execution_count": 1,
   "metadata": {},
   "outputs": [
    {
     "data": {
      "text/html": [
       "<div>\n",
       "<style scoped>\n",
       "    .dataframe tbody tr th:only-of-type {\n",
       "        vertical-align: middle;\n",
       "    }\n",
       "\n",
       "    .dataframe tbody tr th {\n",
       "        vertical-align: top;\n",
       "    }\n",
       "\n",
       "    .dataframe thead th {\n",
       "        text-align: right;\n",
       "    }\n",
       "</style>\n",
       "<table border=\"1\" class=\"dataframe\">\n",
       "  <thead>\n",
       "    <tr style=\"text-align: right;\">\n",
       "      <th></th>\n",
       "      <th>asin</th>\n",
       "      <th>overall</th>\n",
       "      <th>reviewText</th>\n",
       "      <th>reviewTime</th>\n",
       "      <th>reviewerID</th>\n",
       "      <th>reviewerName</th>\n",
       "      <th>summary</th>\n",
       "      <th>unixReviewTime</th>\n",
       "      <th>reviewRatings</th>\n",
       "      <th>helpfulRatings</th>\n",
       "    </tr>\n",
       "  </thead>\n",
       "  <tbody>\n",
       "    <tr>\n",
       "      <th>0</th>\n",
       "      <td>B004A9SDD8</td>\n",
       "      <td>3</td>\n",
       "      <td>Loves the song, so he really couldn't wait to ...</td>\n",
       "      <td>11 2, 2013</td>\n",
       "      <td>A1N4O8VOJZTDVB</td>\n",
       "      <td>Annette Yancey</td>\n",
       "      <td>Really cute</td>\n",
       "      <td>1383350400</td>\n",
       "      <td>1</td>\n",
       "      <td>1</td>\n",
       "    </tr>\n",
       "    <tr>\n",
       "      <th>1</th>\n",
       "      <td>B004A9SDD8</td>\n",
       "      <td>5</td>\n",
       "      <td>Oh, how my little grandson loves this app. He'...</td>\n",
       "      <td>12 5, 2011</td>\n",
       "      <td>A2HQWU6HUKIEC7</td>\n",
       "      <td>Audiobook lover \"Kathy\"</td>\n",
       "      <td>2-year-old loves it</td>\n",
       "      <td>1323043200</td>\n",
       "      <td>0</td>\n",
       "      <td>0</td>\n",
       "    </tr>\n",
       "    <tr>\n",
       "      <th>2</th>\n",
       "      <td>B004A9SDD8</td>\n",
       "      <td>5</td>\n",
       "      <td>I found this at a perfect time since my daught...</td>\n",
       "      <td>05 21, 2012</td>\n",
       "      <td>A1SXASF6GYG96I</td>\n",
       "      <td>Barbara Gibbs</td>\n",
       "      <td>Fun game</td>\n",
       "      <td>1337558400</td>\n",
       "      <td>0</td>\n",
       "      <td>0</td>\n",
       "    </tr>\n",
       "    <tr>\n",
       "      <th>3</th>\n",
       "      <td>B004A9SDD8</td>\n",
       "      <td>5</td>\n",
       "      <td>My 1 year old goes back to this game over and ...</td>\n",
       "      <td>12 6, 2012</td>\n",
       "      <td>A2B54P9ZDYH167</td>\n",
       "      <td>Brooke Greenstreet \"Babylove\"</td>\n",
       "      <td>We love our Monkeys!</td>\n",
       "      <td>1354752000</td>\n",
       "      <td>4</td>\n",
       "      <td>3</td>\n",
       "    </tr>\n",
       "    <tr>\n",
       "      <th>4</th>\n",
       "      <td>B004A9SDD8</td>\n",
       "      <td>5</td>\n",
       "      <td>There are three different versions of the song...</td>\n",
       "      <td>02 1, 2014</td>\n",
       "      <td>AFOFZDTX5UC6D</td>\n",
       "      <td>C. Galindo</td>\n",
       "      <td>This is my granddaughters favorite app on my K...</td>\n",
       "      <td>1391212800</td>\n",
       "      <td>1</td>\n",
       "      <td>1</td>\n",
       "    </tr>\n",
       "  </tbody>\n",
       "</table>\n",
       "</div>"
      ],
      "text/plain": [
       "         asin  overall                                         reviewText  \\\n",
       "0  B004A9SDD8        3  Loves the song, so he really couldn't wait to ...   \n",
       "1  B004A9SDD8        5  Oh, how my little grandson loves this app. He'...   \n",
       "2  B004A9SDD8        5  I found this at a perfect time since my daught...   \n",
       "3  B004A9SDD8        5  My 1 year old goes back to this game over and ...   \n",
       "4  B004A9SDD8        5  There are three different versions of the song...   \n",
       "\n",
       "    reviewTime      reviewerID                   reviewerName  \\\n",
       "0   11 2, 2013  A1N4O8VOJZTDVB                 Annette Yancey   \n",
       "1   12 5, 2011  A2HQWU6HUKIEC7        Audiobook lover \"Kathy\"   \n",
       "2  05 21, 2012  A1SXASF6GYG96I                  Barbara Gibbs   \n",
       "3   12 6, 2012  A2B54P9ZDYH167  Brooke Greenstreet \"Babylove\"   \n",
       "4   02 1, 2014   AFOFZDTX5UC6D                     C. Galindo   \n",
       "\n",
       "                                             summary  unixReviewTime  \\\n",
       "0                                        Really cute      1383350400   \n",
       "1                                2-year-old loves it      1323043200   \n",
       "2                                           Fun game      1337558400   \n",
       "3                               We love our Monkeys!      1354752000   \n",
       "4  This is my granddaughters favorite app on my K...      1391212800   \n",
       "\n",
       "   reviewRatings  helpfulRatings  \n",
       "0              1               1  \n",
       "1              0               0  \n",
       "2              0               0  \n",
       "3              4               3  \n",
       "4              1               1  "
      ]
     },
     "execution_count": 1,
     "metadata": {},
     "output_type": "execute_result"
    }
   ],
   "source": [
    "import pandas\n",
    "df = pandas.read_pickle('../data/amazon_products/dataframes/Apps_for_Android.pkl')\n",
    "df.head()"
   ]
  },
  {
   "cell_type": "markdown",
   "metadata": {},
   "source": [
    " - `reviewerID` - ID of the reviewer, e.g. A2SUAM1J3GNN3B\n",
    " - `asin` - ID of the product, e.g. 0000013714. You can use this ID to find the item through the Amazon web UI, too, e.g. https://www.amazon.com/gp/product/0000013714\n",
    " - `reviewerName` - name of the reviewer\n",
    " - `reviewRatings` - the number of helpful/unheplful ratings given to this review\n",
    " - `helpfulRating` - the number of those ratings indicating it was a helpful review\n",
    " - `reviewText` - text of the review\n",
    " - `overall` - rating of the product\n",
    " - `summary` - summary of the review\n",
    " - `unixReviewTime` - time of the review (unix time)\n",
    " - `reviewTime` - time of the review (raw)"
   ]
  },
  {
   "cell_type": "markdown",
   "metadata": {},
   "source": [
    "### `CATEGORY.npy`\n",
    "\n",
    "This is a (n_reviews x 300) Numpy array where the ith row corresponds to the Spacy document vector for the ith review in the corresponding dataframe. The document vectors are derived pre-trained Spacy word vectors:"
   ]
  },
  {
   "cell_type": "code",
   "execution_count": 2,
   "metadata": {},
   "outputs": [
    {
     "name": "stdout",
     "output_type": "stream",
     "text": [
      "(752937, 300)\n"
     ]
    },
    {
     "data": {
      "text/plain": [
       "array([[-0.03018869,  0.24029511, -0.23053358, ..., -0.09692115,\n",
       "         0.04965657,  0.12173134],\n",
       "       [-0.05654537,  0.21312688, -0.17486772, ..., -0.00957985,\n",
       "        -0.03249335,  0.05693251],\n",
       "       [-0.03627986,  0.17326778, -0.17520565, ..., -0.10917577,\n",
       "         0.00921377,  0.1276993 ],\n",
       "       ...,\n",
       "       [ 0.00871697,  0.22195609, -0.22818609, ..., -0.01824116,\n",
       "         0.09139968,  0.06807514],\n",
       "       [ 0.02594237,  0.15006386, -0.144111  , ..., -0.0539003 ,\n",
       "        -0.03813147,  0.14641456],\n",
       "       [-0.04135761,  0.19131352, -0.19144626, ..., -0.17829847,\n",
       "         0.07818279,  0.11182661]], dtype=float32)"
      ]
     },
     "execution_count": 2,
     "metadata": {},
     "output_type": "execute_result"
    }
   ],
   "source": [
    "import numpy\n",
    "vectors = numpy.load('../data/amazon_products/dataframes/Apps_for_Android.npy')\n",
    "print(vectors.shape)\n",
    "vectors"
   ]
  },
  {
   "cell_type": "markdown",
   "metadata": {},
   "source": [
    "### `CATEGORY.nlp.gz`\n",
    "\n",
    "This contains the NLP parse of each review as a JSON blob, one review per line (the ith line corresponds to ith row in the dataframe). The object captures the dependency parse, part of speech tags, associated named entities for each review"
   ]
  },
  {
   "cell_type": "code",
   "execution_count": 3,
   "metadata": {
    "scrolled": false
   },
   "outputs": [
    {
     "name": "stdout",
     "output_type": "stream",
     "text": [
      "[{'NE': '',\n",
      "  'POS_coarse': 'VERB',\n",
      "  'POS_fine': 'VB',\n",
      "  'arc': 'ROOT',\n",
      "  'lemma': 'wait',\n",
      "  'modifiers': [{...}, {...}, {...}, {...}, {...}, {...}, {...}, {...}, {...}],\n",
      "  'word': 'wait'},\n",
      " {'NE': '',\n",
      "  'POS_coarse': 'ADJ',\n",
      "  'POS_fine': 'JJ',\n",
      "  'arc': 'ROOT',\n",
      "  'lemma': 'interesting',\n",
      "  'modifiers': [{...}, {...}, {...}],\n",
      "  'word': 'interesting'},\n",
      " {'NE': '',\n",
      "  'POS_coarse': 'VERB',\n",
      "  'POS_fine': 'VB',\n",
      "  'arc': 'ROOT',\n",
      "  'lemma': 'play',\n",
      "  'modifiers': [{...}, {...}, {...}, {...}, {...}, {...}, {...}, {...}],\n",
      "  'word': 'play'}]\n"
     ]
    }
   ],
   "source": [
    "from pprint import pprint\n",
    "import json\n",
    "import gzip\n",
    "tree = json.loads(gzip.open('../data/amazon_products/dataframes/Apps_for_Android.nlp.gz').readline())\n",
    "pprint(tree, depth=3)"
   ]
  },
  {
   "cell_type": "markdown",
   "metadata": {},
   "source": [
    "It is straightforward to write and apply simple helper functions to extract data from these objects:"
   ]
  },
  {
   "cell_type": "code",
   "execution_count": 4,
   "metadata": {},
   "outputs": [
    {
     "data": {
      "text/plain": [
       "42"
      ]
     },
     "execution_count": 4,
     "metadata": {},
     "output_type": "execute_result"
    }
   ],
   "source": [
    "def token_count(tree):\n",
    "    \"\"\"Count the number of non-punctuation tokens in document\"\"\"\n",
    "    result = 0\n",
    "    for token in tree:\n",
    "        if token['POS_coarse'] != 'PUNCT':\n",
    "            result+=1\n",
    "        result += token_count(token['modifiers'])\n",
    "    return result\n",
    "\n",
    "token_count(tree)"
   ]
  },
  {
   "cell_type": "code",
   "execution_count": 5,
   "metadata": {
    "scrolled": false
   },
   "outputs": [
    {
     "data": {
      "text/plain": [
       "[{'NE': 'CARDINAL',\n",
       "  'POS_coarse': 'NUM',\n",
       "  'POS_fine': 'CD',\n",
       "  'arc': 'attr',\n",
       "  'lemma': 'almost 3',\n",
       "  'word': 'almost 3'}]"
      ]
     },
     "execution_count": 5,
     "metadata": {},
     "output_type": "execute_result"
    }
   ],
   "source": [
    "def named_entities(tree):\n",
    "    \"\"\"Extract any named entities from a document\"\"\"\n",
    "    result = []\n",
    "    for token in tree:\n",
    "        if token['NE']:\n",
    "            result.append({k:v for k, v in token.items() if k!='modifiers'})\n",
    "        result.extend(named_entities(token['modifiers']))\n",
    "    return result\n",
    "named_entities(tree)"
   ]
  }
 ],
 "metadata": {
  "kernelspec": {
   "display_name": "Python 3",
   "language": "python",
   "name": "python3"
  },
  "language_info": {
   "codemirror_mode": {
    "name": "ipython",
    "version": 3
   },
   "file_extension": ".py",
   "mimetype": "text/x-python",
   "name": "python",
   "nbconvert_exporter": "python",
   "pygments_lexer": "ipython3",
   "version": "3.6.4"
  }
 },
 "nbformat": 4,
 "nbformat_minor": 2
}
